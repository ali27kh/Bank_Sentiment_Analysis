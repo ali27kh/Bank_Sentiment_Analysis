{
 "cells": [
  {
   "cell_type": "code",
   "execution_count": 1,
   "id": "90bbdab6-3c5d-4bb8-809a-404f2457db17",
   "metadata": {},
   "outputs": [],
   "source": [
    "import pickle\n",
    "import joblib\n",
    "from langdetect import detect\n",
    "import googletrans\n",
    "from googletrans import Translator\n",
    "import pandas as pd\n",
    "from nltk.stem import WordNetLemmatizer\n",
    "from sklearn.feature_extraction.text import TfidfVectorizer\n",
    "#Import necessary tools\n",
    "translator = Translator()\n",
    "tf1 = pickle.load( open( \"banksatfidf_vectorizer2.pkl\", \"rb\" ) )\n",
    "model=joblib.load(\"Bankmodel_Sentiment_Analysis_classification.sav\")\n",
    "ps =WordNetLemmatizer()"
   ]
  },
  {
   "cell_type": "code",
   "execution_count": 2,
   "id": "3f24bc1a-5000-401a-bfe9-b3d14bfc8924",
   "metadata": {},
   "outputs": [
    {
     "data": {
      "text/plain": [
       "<350x350 sparse matrix of type '<class 'numpy.float64'>'\n",
       "\twith 273 stored elements in Compressed Sparse Row format>"
      ]
     },
     "execution_count": 2,
     "metadata": {},
     "output_type": "execute_result"
    }
   ],
   "source": [
    "#Instance of vectorizer\n",
    "tf1_new = TfidfVectorizer(analyzer='word', ngram_range=(2,2), stop_words = \"english\", lowercase = True,\n",
    "                          max_features = 300, vocabulary = tf1.vocabulary_)\n",
    "tf1_new.fit_transform(tf1.vocabulary_)"
   ]
  },
  {
   "cell_type": "code",
   "execution_count": 3,
   "id": "c61ed5e7-74ec-4700-85b1-fbd86012f9bb",
   "metadata": {},
   "outputs": [],
   "source": [
    "#Define stop words\n",
    "stop_words= ['yourselves', 'between', 'whom', 'itself', 'is', \"she's\", 'up', 'herself', 'here', 'your', 'each', \n",
    "             'we', 'he', 'my', \"you've\", 'having', 'in', 'both', 'for', 'themselves', 'are', 'them', 'other',\n",
    "             'and', 'an', 'during', 'their', 'can', 'yourself', 'she', 'until', 'so', 'these', 'ours', 'above', \n",
    "             'what', 'while', 'have', 're', 'more', 'only', \"needn't\", 'when', 'just', 'that', 'were',  \n",
    "             'very', 'should', 'any', 'y', 'isn', 'who',  'a', 'they', 'to', 'too', \"should've\", 'has', 'before',\n",
    "             'into', 'yours', \"it's\", 'do', 'against', 'on',  'now', 'her', 've', 'd', 'by', 'am', 'from', \n",
    "             'about', 'further', \"that'll\", \"you'd\", 'you', 'as', 'how', 'been', 'the', 'or', 'doing', 'such',\n",
    "             'his', 'himself', 'ourselves',  'was', 'through', 'out', 'below', 'own', 'myself', 'theirs', \n",
    "             'me', 'why', 'once',  'him', 'than', 'be', 'most', \"you'll\", 'same', 'some', 'with', 'few', 'it',\n",
    "             'at', 'after', 'its', 'which', 'there','our', 'this', 'hers', 'being', 'did', 'of', 'had', 'under',\n",
    "             'over','again', 'where', 'those', 'then', \"you're\", 'i', 'because', 'does', 'all']"
   ]
  },
  {
   "cell_type": "code",
   "execution_count": 4,
   "id": "ab52087e-15dc-4c73-8f24-6819a869a26b",
   "metadata": {},
   "outputs": [],
   "source": [
    "#Detec tlanguage fucntion\n",
    "def detect_language(text):\n",
    "    lang = detect(text)\n",
    "    if lang == 'ar':\n",
    "        return 'arabic'\n",
    "    elif lang == 'en':\n",
    "        return 'english'\n",
    "    elif lang == 'fr':\n",
    "        return 'french'\n",
    "    else:\n",
    "        return 'Unknown'\n",
    "\n",
    "#Translate text function\n",
    "def translate_text(text,language):\n",
    "    translated=\"\"\n",
    "    if language == 'arabic':\n",
    "        translated=translator.translate(str(text), src=str('arabic'), dest=str('english')).text\n",
    "    elif language == 'french':\n",
    "        translated=translator.translate(str(text), src=str('french'), dest=str('english')).text\n",
    "    elif language == 'english':\n",
    "        translated=text\n",
    "    else :\n",
    "        translated='verify your text'\n",
    "    return translated"
   ]
  },
  {
   "cell_type": "code",
   "execution_count": 5,
   "id": "01785a91-2267-4531-b9c0-81223bae8e0d",
   "metadata": {},
   "outputs": [],
   "source": [
    "#Function to preprocess text and predect sentiment\n",
    "def predict_sentiment(texttopredict):\n",
    "    tokens_without_sw = str(\" \".join(word for word in texttopredict.split() if word not in (stop_words)))\n",
    "    lemmatized_output = ' '.join([ps.lemmatize(w) for w in tokens_without_sw.split()])\n",
    "    X1= tf1_new.transform([lemmatized_output]) \n",
    "    y_pred = model.predict(X1)\n",
    "    return y_pred"
   ]
  },
  {
   "cell_type": "code",
   "execution_count": 17,
   "id": "8b387fe2",
   "metadata": {},
   "outputs": [],
   "source": [
    "def label_sentiment(prediction):\n",
    "    return \"positive\" if prediction == 1 else \"negative\""
   ]
  },
  {
   "cell_type": "code",
   "execution_count": 16,
   "id": "ddc4c507-9622-4d9b-ac1d-07445ba9e004",
   "metadata": {},
   "outputs": [
    {
     "name": "stdout",
     "output_type": "stream",
     "text": [
      "Texte original : كانوا غير محترمين مع الزبائن\n",
      "Traduction en anglais : They were not respected with customers\n",
      "Sentiment : negative\n",
      "-----\n",
      "Texte original : Excellent treatment and the most wonderful bank, thanks!\n",
      "Sentiment : positive\n",
      "-----\n",
      "Texte original : Le service était horrible et lent\n",
      "Traduction en anglais : The service was horrible and slow\n",
      "Sentiment : negative\n",
      "-----\n",
      "Texte original : The staff wasn't very helpful\n",
      "Sentiment : negative\n",
      "-----\n"
     ]
    }
   ],
   "source": [
    "texts = [\n",
    "    \"كانوا غير محترمين مع الزبائن\",\n",
    "    \"Excellent treatment and the most wonderful bank, thanks!\",\n",
    "    \"Le service était horrible et lent\",\n",
    "    \"The staff wasn't very helpful\"\n",
    "]\n",
    "\n",
    "for text in texts:\n",
    "    language = detect_language(text)\n",
    "    translated = translate_text(text, language)\n",
    "    prediction = predict_sentiment(translated)\n",
    "    sentiment_label = label_sentiment(prediction[0])\n",
    "    \n",
    "    print(f\"Texte original : {text}\")\n",
    "    if language != 'english':\n",
    "        print(f\"Traduction en anglais : {translated}\")\n",
    "    print(f\"Sentiment : {sentiment_label}\")\n",
    "    print(\"-----\")"
   ]
  },
  {
   "cell_type": "code",
   "execution_count": null,
   "id": "59f40460",
   "metadata": {},
   "outputs": [],
   "source": []
  }
 ],
 "metadata": {
  "kernelspec": {
   "display_name": "Python 3 (ipykernel)",
   "language": "python",
   "name": "python3"
  },
  "language_info": {
   "codemirror_mode": {
    "name": "ipython",
    "version": 3
   },
   "file_extension": ".py",
   "mimetype": "text/x-python",
   "name": "python",
   "nbconvert_exporter": "python",
   "pygments_lexer": "ipython3",
   "version": "3.8.8"
  }
 },
 "nbformat": 4,
 "nbformat_minor": 5
}
